{
 "cells": [
  {
   "cell_type": "markdown",
   "metadata": {},
   "source": [
    "## Quantum Computing Bell State"
   ]
  },
  {
   "cell_type": "code",
   "execution_count": 1,
   "metadata": {},
   "outputs": [],
   "source": [
    "import time\n",
    "import sys\n",
    "import numpy as np\n",
    "import matplotlib.pyplot as plt\n",
    "%matplotlib inline\n",
    "\n",
    "from qiskit import QuantumCircuit, QuantumRegister, ClassicalRegister\n",
    "from qiskit import IBMQ, Aer, execute\n",
    "from qiskit.providers.jobstatus import JobStatus\n",
    "from qiskit.providers.aer import noise\n",
    "#from qiskit.tools.visualization import plot_histogram"
   ]
  },
  {
   "cell_type": "code",
   "execution_count": 2,
   "metadata": {},
   "outputs": [
    {
     "data": {
      "image/png": "[encoded data removed]",
      "text/plain": [
       "<Figure size 432x288 with 1 Axes>"
      ]
     },
     "metadata": {
      "needs_background": "light"
     },
     "output_type": "display_data"
    }
   ],
   "source": [
    "# given a python dict probability distribution\n",
    "# generate a plot of the probability histogram\n",
    "\n",
    "def plot_histogram(counts, title=\"\"):\n",
    "    n = len(next(iter(counts))) # get length of a ket in distribution\n",
    "    N = 0 # total number of shots\n",
    "    labels = list() # label each ket on x axis\n",
    "    values = list() # number of shots measured for each ket\n",
    "    for i in range(2**n):\n",
    "        ket = format(i, \"0%db\" % n) # convert int to binary string\n",
    "        labels.append(ket)\n",
    "        if ket not in counts:\n",
    "            values.append(0)\n",
    "        else:\n",
    "            values.append(counts[ket])\n",
    "            N += counts[ket]\n",
    "\n",
    "    # plot histogram of probabilities\n",
    "    labels_num = range(len(labels))\n",
    "    probs = np.array(values) / N\n",
    "    fig = plt.figure()\n",
    "    ax = fig.add_subplot(1, 1, 1)\n",
    "    ax.bar(labels_num, probs)\n",
    "    ax.set(xticks=labels_num)\n",
    "    ax.set_xticklabels(labels, rotation=45)\n",
    "    ax.set(ylim=(0,1))\n",
    "    ax.set(xlabel=\"measured states\")\n",
    "    ax.set(ylabel=\"probabilities\")\n",
    "    ax.set(title=title)\n",
    "    return fig\n",
    "\n",
    "plt.show(plot_histogram({\"00\": 100, \"01\": 200, \"10\": 300, \"11\": 400}))"
   ]
  },
  {
   "cell_type": "markdown",
   "metadata": {},
   "source": [
    "## setup imbq and qiskit aer"
   ]
  },
  {
   "cell_type": "code",
   "execution_count": 3,
   "metadata": {},
   "outputs": [
    {
     "name": "stdout",
     "output_type": "stream",
     "text": [
      "backends:\n",
      " * Aer.qasm_simulator\n",
      " * Aer.statevector_simulator\n",
      " * Aer.unitary_simulator\n",
      " * IBMQ.ibmq_16_melbourne\n",
      " * IBMQ.ibmq_ourense\n",
      " * IBMQ.ibmq_qasm_simulator\n",
      " * IBMQ.ibmq_vigo\n",
      " * IBMQ.ibmqx2\n"
     ]
    }
   ],
   "source": [
    "# get backends\n",
    "backends = dict()\n",
    "\n",
    "# aer backends\n",
    "for b in Aer.backends():\n",
    "    backends[\"Aer.\"+str(b)] = b\n",
    "\n",
    "# login to ibmq\n",
    "token = \"987d92114d0965a980e128f52d1a64870652140262a7dce07ab8ea3290d548fd\" + \\\n",
    "        \"d00abaaa1678f82c97349f1b16c3a2fb4d958405f5a3a89820012fb807b57c90\"\n",
    "#url = \"https://quantumexperience.ng.bluemix.net/api\" #v1\n",
    "url = \"https://auth.quantum-computing.ibm.com/api\" #v2\n",
    "#IBMQ.disable_account()\n",
    "IBMQ.enable_account(token, url)\n",
    "\n",
    "try:\n",
    "    ibmq_backends = IBMQ.get_provider().backends()\n",
    "except Exception as e: # try v1 way\n",
    "    ibmq_backends = IBMQ.backends()\n",
    "for b in ibmq_backends:\n",
    "    backends[\"IBMQ.\"+str(b)] = b\n",
    "\n",
    "# print backends\n",
    "backend_names = list(backends.keys())\n",
    "backend_names.sort()\n",
    "print(\"backends:\\n * \"+(\"\\n * \").join(backend_names))\n",
    "\n",
    "#job = execute(qc, backend=backends[\"Aer.qasm_simulator\"], shots=N)\n",
    "\n",
    "\n",
    "# get noise profile\n",
    "realboi = IBMQ.get_provider().get_backend('ibmq_16_melbourne')\n",
    "properties = realboi.properties()\n",
    "couple = realboi.configuration().coupling_map\n",
    "noise_model = noise.device.basic_device_noise_model(properties)\n",
    "basis_gates = noise_model.basis_gates\n",
    "   "
   ]
  },
  {
   "cell_type": "markdown",
   "metadata": {},
   "source": [
    "## define basic quantum circuit"
   ]
  },
  {
   "cell_type": "code",
   "execution_count": 4,
   "metadata": {},
   "outputs": [
    {
     "name": "stdout",
     "output_type": "stream",
     "text": [
      "         ┌───┐     ┌─┐   \n",
      "q0_0: |0>┤ H ├──■──┤M├───\n",
      "         └───┘┌─┴─┐└╥┘┌─┐\n",
      "q0_1: |0>─────┤ X ├─╫─┤M├\n",
      "              └───┘ ║ └╥┘\n",
      " c0_0: 0 ═══════════╩══╬═\n",
      "                       ║ \n",
      " c0_1: 0 ══════════════╩═\n",
      "                         \n"
     ]
    }
   ],
   "source": [
    "def bell():\n",
    "    q = QuantumRegister(2)\n",
    "    c = ClassicalRegister(2)\n",
    "    qc = QuantumCircuit(q, c)\n",
    "\n",
    "    qc.h(q[0])\n",
    "    qc.cx(q[0],q[1])\n",
    "    qc.measure(q, c)\n",
    "    return qc\n",
    "\n",
    "# show circuit\n",
    "qc = bell()\n",
    "print(qc.draw())\n"
   ]
  },
  {
   "cell_type": "code",
   "execution_count": 5,
   "metadata": {},
   "outputs": [
    {
     "name": "stdout",
     "output_type": "stream",
     "text": [
      "simulating quantum computer\n",
      "\n",
      "quantum computer simulator results:\n",
      "{'11': 506, '00': 494}\n"
     ]
    },
    {
     "data": {
      "image/png": "[encoded data removed]",
      "text/plain": [
       "<Figure size 432x288 with 1 Axes>"
      ]
     },
     "metadata": {
      "needs_background": "light"
     },
     "output_type": "display_data"
    }
   ],
   "source": [
    "# run ciruit no noise\n",
    "print(\"simulating quantum computer\")\n",
    "backend = backends[\"Aer.qasm_simulator\"]\n",
    "job = execute(qc, backend=backend, shots=1000)\n",
    "counts = job.result().get_counts()\n",
    "\n",
    "# show results\n",
    "print(f\"\\nquantum computer simulator results:\\n{counts}\")\n",
    "plt.show(plot_histogram(counts))"
   ]
  },
  {
   "cell_type": "code",
   "execution_count": 6,
   "metadata": {},
   "outputs": [
    {
     "name": "stdout",
     "output_type": "stream",
     "text": [
      "simulating quantum computer\n",
      "\n",
      "quantum computer simulator results:\n",
      "{'10': 86, '11': 430, '01': 89, '00': 395}\n"
     ]
    },
    {
     "data": {
      "image/png": "[encoded data removed]",
      "text/plain": [
       "<Figure size 432x288 with 1 Axes>"
      ]
     },
     "metadata": {
      "needs_background": "light"
     },
     "output_type": "display_data"
    }
   ],
   "source": [
    "# run ciruit with noise\n",
    "print(\"simulating quantum computer\")\n",
    "backend = backends[\"Aer.qasm_simulator\"]\n",
    "job = execute(qc, backend=backend, coupling_map=couple, noise_model=noise_model, basis_gates=basis_gates, shots=1000)\n",
    "counts = job.result().get_counts()\n",
    "\n",
    "# show results\n",
    "print(f\"\\nquantum computer simulator results:\\n{counts}\")\n",
    "plt.show(plot_histogram(counts))"
   ]
  },
  {
   "cell_type": "code",
   "execution_count": 7,
   "metadata": {},
   "outputs": [
    {
     "name": "stdout",
     "output_type": "stream",
     "text": [
      "carryin = 0\n",
      "in1 = 0\n",
      "in2 = 0\n",
      "\n",
      "out = 0\n",
      "carry = 0\n"
     ]
    }
   ],
   "source": [
    "# given carry, a, b, calculate (carry+a+b) and (newcarry)\n",
    "def classic_adder(x=\"000\"):\n",
    "    c = int(x[0])\n",
    "    a = int(x[1])\n",
    "    b = int(x[2])\n",
    "    out = (a + b + c) % 2\n",
    "    carry = int(a + b + c >= 2)\n",
    "    return out, carry\n",
    "\n",
    "x = \"000\"\n",
    "\n",
    "print(f\"carryin = {x[0]}\\nin1 = {x[1]}\\nin2 = {x[2]}\")\n",
    "out, carry = classic_adder(x)\n",
    "print(f\"\\nout = {out}\\ncarry = {carry}\")\n",
    "    "
   ]
  },
  {
   "cell_type": "code",
   "execution_count": 8,
   "metadata": {},
   "outputs": [
    {
     "name": "stdout",
     "output_type": "stream",
     "text": [
      "a, b, ci -> b, co\n",
      "  if (a and b): flip co\n",
      "  if (a): flip b\n",
      "  if (ci and b): flip co\n",
      "\n",
      "  if (a): flip b back to orig\n",
      "  if (ci): flip b to sum\n"
     ]
    },
    {
     "data": {
      "image/png": "[encoded data removed]",
      "text/plain": [
       "<Figure size 709.156x325.08 with 1 Axes>"
      ]
     },
     "execution_count": 8,
     "metadata": {},
     "output_type": "execute_result"
    }
   ],
   "source": [
    "# given carry, a, b, calculate (carry+a+b) and (newcarry)\n",
    "def adder(a=\"0000\", b=\"0000\"):\n",
    "    a = a[::-1]\n",
    "    b = b[::-1]\n",
    "    n = len(a)\n",
    "    qa = QuantumRegister(n)\n",
    "    qb = QuantumRegister(n+1)\n",
    "    qc = QuantumRegister(n)\n",
    "    c = ClassicalRegister(n+1)\n",
    "    circ = QuantumCircuit(qa, qb, qc, c)\n",
    "    \n",
    "    did_something = False\n",
    "    for j in range(len(a)):\n",
    "        if a[j] == \"1\":\n",
    "            circ.x(qa[j])\n",
    "            did_something = True\n",
    "        if b[j] == \"1\":\n",
    "            circ.x(qb[j])\n",
    "            did_something = True\n",
    "        \n",
    "    if did_something:\n",
    "        circ.barrier(qa)\n",
    "        circ.barrier(qb)\n",
    "        circ.barrier(qc)\n",
    "    \n",
    "#     circ.ccx(qa[0], qb[0], qc[1])\n",
    "#     circ.cx(qa[0], qb[0])\n",
    "#     circ.ccx(qc[0], qb[0], qc[1])\n",
    "#     circ.cx(qa[0], qb[0])\n",
    "#     circ.cx(qc[0], qb[0])\n",
    "    for j in range(n-1):\n",
    "        circ.ccx(qa[j], qb[j], qc[j+1])\n",
    "        circ.cx(qa[j], qb[j])\n",
    "        circ.ccx(qc[j], qb[j], qc[j+1])\n",
    "    j = n-1\n",
    "    circ.ccx(qa[j], qb[j], qb[j+1])\n",
    "    circ.cx(qa[j], qb[j])\n",
    "    circ.ccx(qc[j], qb[j], qb[j+1])\n",
    "    circ.cx(qc[j], qb[j])\n",
    "    \n",
    "    n2 = n - 2\n",
    "    for j in range(n-1):\n",
    "        circ.ccx(qc[n2-j], qb[n2-j], qc[n2-j+1])\n",
    "        circ.cx(qa[n2-j], qb[n2-j])\n",
    "        circ.ccx(qa[n2-j], qb[n2-j], qc[n2-j+1])\n",
    "        circ.cx(qa[n2-j], qb[n2-j])\n",
    "        circ.cx(qc[n2-j], qb[n2-j])\n",
    "        circ.cx(qa[n2-j], qb[n2-j])\n",
    "\n",
    "    circ.barrier(qa)\n",
    "    circ.barrier(qb)\n",
    "    circ.barrier(qc)\n",
    "    circ.measure(qb, c)\n",
    "    return circ\n",
    "\n",
    "qc = adder(a=\"1\", b=\"0\")\n",
    "\n",
    "print(\"a, b, ci -> b, co\")\n",
    "print(\"  if (a and b): flip co\")\n",
    "print(\"  if (a): flip b\")\n",
    "print(\"  if (ci and b): flip co\")\n",
    "print()\n",
    "print(\"  if (a): flip b back to orig\")\n",
    "print(\"  if (ci): flip b to sum\")\n",
    "\n",
    "fig = qc.draw(output=\"mpl\")\n",
    "fig"
   ]
  },
  {
   "cell_type": "code",
   "execution_count": 18,
   "metadata": {},
   "outputs": [
    {
     "name": "stdout",
     "output_type": "stream",
     "text": [
      "simulating quantum computer\n",
      "\n",
      "quantum computer simulator results:\n",
      "{'01': 1000}\n"
     ]
    },
    {
     "data": {
      "image/png": "[encoded data removed]",
      "text/plain": [
       "<Figure size 432x288 with 1 Axes>"
      ]
     },
     "metadata": {
      "needs_background": "light"
     },
     "output_type": "display_data"
    },
    {
     "data": {
      "image/png": "[encoded data removed]",
      "text/plain": [
       "<Figure size 719.992x325.08 with 1 Axes>"
      ]
     },
     "execution_count": 18,
     "metadata": {},
     "output_type": "execute_result"
    }
   ],
   "source": [
    "qc = adder(a=\"0\", b=\"1\")\n",
    "\n",
    "# run ciruit no noise\n",
    "print(\"simulating quantum computer\")\n",
    "backend = backends[\"Aer.qasm_simulator\"]\n",
    "job = execute(qc, backend=backend, shots=1000)\n",
    "counts = job.result().get_counts()\n",
    "\n",
    "# show results\n",
    "print(f\"\\nquantum computer simulator results:\\n{counts}\")\n",
    "plt.show(plot_histogram(counts))\n",
    "\n",
    "fig = qc.draw(output=\"mpl\")\n",
    "fig.savefig(\"circuit.png\")\n",
    "fig"
   ]
  },
  {
   "cell_type": "code",
   "execution_count": 10,
   "metadata": {},
   "outputs": [
    {
     "name": "stdout",
     "output_type": "stream",
     "text": [
      "simulating quantum computer\n",
      "\n",
      "quantum computer simulator results:\n",
      "{'00001': 1000}\n"
     ]
    },
    {
     "data": {
      "image/png": "[encoded data removed]",
      "text/plain": [
       "<Figure size 432x288 with 1 Axes>"
      ]
     },
     "metadata": {
      "needs_background": "light"
     },
     "output_type": "display_data"
    }
   ],
   "source": [
    "qc = adder(a=\"0010\", b=\"0001\")\n",
    "\n",
    "# run ciruit no noise\n",
    "print(\"simulating quantum computer\")\n",
    "backend = backends[\"Aer.qasm_simulator\"]\n",
    "job = execute(qc, backend=backend, shots=1000)\n",
    "#job = execute(qc, backend=backend, coupling_map=couple, noise_model=noise_model, basis_gates=basis_gates, shots=10000)\n",
    "\n",
    "counts = job.result().get_counts()\n",
    "\n",
    "# show results\n",
    "print(f\"\\nquantum computer simulator results:\\n{counts}\")\n",
    "plt.show(plot_histogram(counts))"
   ]
  },
  {
   "cell_type": "code",
   "execution_count": null,
   "metadata": {},
   "outputs": [],
   "source": []
  }
 ],
 "metadata": {
  "kernelspec": {
   "display_name": "Python 3",
   "language": "python",
   "name": "python3"
  },
  "language_info": {
   "codemirror_mode": {
    "name": "ipython",
    "version": 3
   },
   "file_extension": ".py",
   "mimetype": "text/x-python",
   "name": "python",
   "nbconvert_exporter": "python",
   "pygments_lexer": "ipython3",
   "version": "3.6.8"
  }
 },
 "nbformat": 4,
 "nbformat_minor": 4
}
