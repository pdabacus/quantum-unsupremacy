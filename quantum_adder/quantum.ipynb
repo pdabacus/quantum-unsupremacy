{
 "cells": [
  {
   "cell_type": "markdown",
   "metadata": {},
   "source": [
    "## Quantum Computing Bell State"
   ]
  },
  {
   "cell_type": "code",
   "execution_count": 1,
   "metadata": {},
   "outputs": [],
   "source": [
    "import time\n",
    "import sys\n",
    "import numpy as np\n",
    "import matplotlib.pyplot as plt\n",
    "%matplotlib inline\n",
    "\n",
    "from qiskit import QuantumCircuit, QuantumRegister, ClassicalRegister\n",
    "from qiskit import IBMQ, Aer, execute\n",
    "from qiskit.providers.jobstatus import JobStatus\n",
    "from qiskit.providers.aer import noise\n",
    "#from qiskit.tools.visualization import plot_histogram"
   ]
  },
  {
   "cell_type": "code",
   "execution_count": 7,
   "metadata": {},
   "outputs": [
    {
     "data": {
      "image/png": "[encoded data removed]",
      "text/plain": [
       "<Figure size 432x288 with 1 Axes>"
      ]
     },
     "metadata": {
      "needs_background": "light"
     },
     "output_type": "display_data"
    }
   ],
   "source": [
    "# given a python dict probability distribution\n",
    "# generate a plot of the probability histogram\n",
    "\n",
    "def plot_histogram(counts, title=\"\"):\n",
    "    n = len(next(iter(counts))) # get length of a ket in distribution\n",
    "    N = 0 # total number of shots\n",
    "    labels = list() # label each ket on x axis\n",
    "    values = list() # number of shots measured for each ket\n",
    "    for i in range(2**n):\n",
    "        ket = format(i, \"0%db\" % n) # convert int to binary string\n",
    "        labels.append(ket)\n",
    "        if ket not in counts:\n",
    "            values.append(0)\n",
    "        else:\n",
    "            values.append(counts[ket])\n",
    "            N += counts[ket]\n",
    "\n",
    "    # plot histogram of probabilities\n",
    "    labels_num = range(len(labels))\n",
    "    probs = np.array(values) / N\n",
    "    fig = plt.figure()\n",
    "    ax = fig.add_subplot(1, 1, 1)\n",
    "    ax.bar(labels_num, probs)\n",
    "    ax.set(xticks=labels_num)\n",
    "    ax.set_xticklabels(labels, rotation=45)\n",
    "    ax.set(ylim=(0,1))\n",
    "    ax.set(xlabel=\"measured states\")\n",
    "    ax.set(ylabel=\"probabilities\")\n",
    "    ax.set(title=title)\n",
    "    return fig\n",
    "\n",
    "plt.show(plot_histogram({\"00\": 100, \"01\": 200, \"10\": 300, \"11\": 400}))"
   ]
  },
  {
   "cell_type": "markdown",
   "metadata": {},
   "source": [
    "## setup imbq and qiskit aer"
   ]
  },
  {
   "cell_type": "code",
   "execution_count": 4,
   "metadata": {},
   "outputs": [
    {
     "name": "stdout",
     "output_type": "stream",
     "text": [
      "backends:\n",
      " * Aer.qasm_simulator\n",
      " * Aer.statevector_simulator\n",
      " * Aer.unitary_simulator\n",
      " * IBMQ.ibmq_16_melbourne\n",
      " * IBMQ.ibmq_ourense\n",
      " * IBMQ.ibmq_qasm_simulator\n",
      " * IBMQ.ibmq_vigo\n",
      " * IBMQ.ibmqx2\n"
     ]
    }
   ],
   "source": [
    "# get backends\n",
    "backends = dict()\n",
    "\n",
    "# aer backends\n",
    "for b in Aer.backends():\n",
    "    backends[\"Aer.\"+str(b)] = b\n",
    "\n",
    "# login to ibmq\n",
    "token = \"987d92114d0965a980e128f52d1a64870652140262a7dce07ab8ea3290d548fd\" + \\\n",
    "        \"d00abaaa1678f82c97349f1b16c3a2fb4d958405f5a3a89820012fb807b57c90\"\n",
    "#url = \"https://quantumexperience.ng.bluemix.net/api\" #v1\n",
    "url = \"https://auth.quantum-computing.ibm.com/api\" #v2\n",
    "#IBMQ.disable_account()\n",
    "IBMQ.enable_account(token, url)\n",
    "\n",
    "try:\n",
    "    ibmq_backends = IBMQ.get_provider().backends()\n",
    "except Exception as e: # try v1 way\n",
    "    ibmq_backends = IBMQ.backends()\n",
    "for b in ibmq_backends:\n",
    "    backends[\"IBMQ.\"+str(b)] = b\n",
    "\n",
    "# print backends\n",
    "backend_names = list(backends.keys())\n",
    "backend_names.sort()\n",
    "print(\"backends:\\n * \"+(\"\\n * \").join(backend_names))\n",
    "\n",
    "#job = execute(qc, backend=backends[\"Aer.qasm_simulator\"], shots=N)\n",
    "\n",
    "\n",
    "# get noise profile\n",
    "realboi = IBMQ.get_provider().get_backend('ibmq_16_melbourne')\n",
    "properties = realboi.properties()\n",
    "couple = realboi.configuration().coupling_map\n",
    "noise_model = noise.device.basic_device_noise_model(properties)\n",
    "basis_gates = noise_model.basis_gates\n",
    "   "
   ]
  },
  {
   "cell_type": "markdown",
   "metadata": {},
   "source": [
    "## define basic quantum circuit"
   ]
  },
  {
   "cell_type": "code",
   "execution_count": 8,
   "metadata": {},
   "outputs": [
    {
     "name": "stdout",
     "output_type": "stream",
     "text": [
      "         ┌───┐     ┌─┐   \n",
      "q2_0: |0>┤ H ├──■──┤M├───\n",
      "         └───┘┌─┴─┐└╥┘┌─┐\n",
      "q2_1: |0>─────┤ X ├─╫─┤M├\n",
      "              └───┘ ║ └╥┘\n",
      " c2_0: 0 ═══════════╩══╬═\n",
      "                       ║ \n",
      " c2_1: 0 ══════════════╩═\n",
      "                         \n"
     ]
    }
   ],
   "source": [
    "def bell():\n",
    "    q = QuantumRegister(2)\n",
    "    c = ClassicalRegister(2)\n",
    "    qc = QuantumCircuit(q, c)\n",
    "\n",
    "    qc.h(q[0])\n",
    "    qc.cx(q[0],q[1])\n",
    "    qc.measure(q, c)\n",
    "    return qc\n",
    "\n",
    "# show circuit\n",
    "qc = bell()\n",
    "print(qc.draw())\n"
   ]
  },
  {
   "cell_type": "code",
   "execution_count": 10,
   "metadata": {},
   "outputs": [
    {
     "name": "stdout",
     "output_type": "stream",
     "text": [
      "simulating quantum computer\n",
      "\n",
      "quantum computer simulator results:\n",
      "{'00': 508, '11': 492}\n"
     ]
    },
    {
     "data": {
      "image/png": "[encoded data removed]",
      "text/plain": [
       "<Figure size 432x288 with 1 Axes>"
      ]
     },
     "metadata": {
      "needs_background": "light"
     },
     "output_type": "display_data"
    }
   ],
   "source": [
    "# run ciruit no noise\n",
    "print(\"simulating quantum computer\")\n",
    "backend = backends[\"Aer.qasm_simulator\"]\n",
    "job = execute(qc, backend=backend, shots=1000)\n",
    "counts = job.result().get_counts()\n",
    "\n",
    "# show results\n",
    "print(f\"\\nquantum computer simulator results:\\n{counts}\")\n",
    "plt.show(plot_histogram(counts))"
   ]
  },
  {
   "cell_type": "code",
   "execution_count": 9,
   "metadata": {},
   "outputs": [
    {
     "name": "stdout",
     "output_type": "stream",
     "text": [
      "simulating quantum computer\n",
      "\n",
      "quantum computer simulator results:\n",
      "{'01': 56, '00': 421, '10': 71, '11': 452}\n"
     ]
    },
    {
     "data": {
      "image/png": "[encoded data removed]",
      "text/plain": [
       "<Figure size 432x288 with 1 Axes>"
      ]
     },
     "metadata": {
      "needs_background": "light"
     },
     "output_type": "display_data"
    }
   ],
   "source": [
    "# run ciruit with noise\n",
    "print(\"simulating quantum computer\")\n",
    "backend = backends[\"Aer.qasm_simulator\"]\n",
    "job = execute(qc, backend=backend, coupling_map=couple, noise_model=noise_model, basis_gates=basis_gates, shots=1000)\n",
    "counts = job.result().get_counts()\n",
    "\n",
    "# show results\n",
    "print(f\"\\nquantum computer simulator results:\\n{counts}\")\n",
    "plt.show(plot_histogram(counts))"
   ]
  },
  {
   "cell_type": "code",
   "execution_count": null,
   "metadata": {},
   "outputs": [],
   "source": []
  }
 ],
 "metadata": {
  "kernelspec": {
   "display_name": "Python 3",
   "language": "python",
   "name": "python3"
  },
  "language_info": {
   "codemirror_mode": {
    "name": "ipython",
    "version": 3
   },
   "file_extension": ".py",
   "mimetype": "text/x-python",
   "name": "python",
   "nbconvert_exporter": "python",
   "pygments_lexer": "ipython3",
   "version": "3.6.8"
  }
 },
 "nbformat": 4,
 "nbformat_minor": 4
}
