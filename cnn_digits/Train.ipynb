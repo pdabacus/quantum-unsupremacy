{
  "nbformat": 4,
  "nbformat_minor": 0,
  "metadata": {
    "colab": {
      "name": "Train.ipynb",
      "provenance": [],
      "collapsed_sections": []
    },
    "kernelspec": {
      "name": "python3",
      "display_name": "Python 3"
    }
  },
  "cells": [
    {
      "cell_type": "code",
      "metadata": {
        "id": "du4gkl8cxT3U",
        "colab_type": "code",
        "colab": {}
      },
      "source": [
        "from keras.datasets import mnist\n",
        "import matplotlib.pyplot as plt\n",
        "import numpy as np\n",
        "from keras.layers import Flatten\n",
        "from keras.models import Sequential\n",
        "from keras.layers import Dense\n",
        "from keras.layers import Dropout\n",
        "from keras.layers.convolutional import MaxPooling2D\n",
        "from keras.utils import np_utils\n",
        "from keras.layers.convolutional import Conv2D"
      ],
      "execution_count": 0,
      "outputs": []
    },
    {
      "cell_type": "code",
      "metadata": {
        "id": "Xiy2yYYIt7R-",
        "colab_type": "code",
        "colab": {
          "base_uri": "https://localhost:8080/",
          "height": 321
        },
        "outputId": "f108a123-86aa-431e-bd6d-6d87f764f77c"
      },
      "source": [
        "(X_train_orig,Y_train_orig),(X_test_orig,Y_test_orig)= mnist.load_data() #Load data from database. In this, X_train and X_test represent the pictures of images, while Y_Train and Y_Test represent what number each image is in the form of a number from 0 to 9.\n",
        "X_train=X_train_orig.reshape(X_train.shape[0],28,28,1) #Here we convert our data into a rank 4 tensor\n",
        "#Here we change Y_train and Y_test from numbers from 0-9 into a 1x10 matrix.\n",
        "Y_train = np_utils.to_categorical(Y_train_orig) \n",
        "Y_test = np_utils.to_categorical(Y_test_orig)\n",
        "#Here we normalize the data to change the values of the matrix from 0-255 into numbers from 0-1.\n",
        "X_train=X_train/255\n",
        "X_test=X_test/255\n",
        "print(\"Here we can see a sample Y-value\")\n",
        "\n",
        "print(Y_train[0])\n",
        "print(\"Which represents the number 5. Indeed, if we look at the image, we see that it looks like this:\")\n",
        "plt.imshow(X_train_orig[0], cmap=plt.get_cmap('gray'))\n",
        "plt.show()\n",
        "\n"
      ],
      "execution_count": 107,
      "outputs": [
        {
          "output_type": "stream",
          "text": [
            "Here we can see a sample Y-value\n",
            "[0. 0. 0. 0. 0. 1. 0. 0. 0. 0.]\n",
            "Which represents the number 5. Indeed, if we look at the image, we see that it looks like this:\n"
          ],
          "name": "stdout"
        },
        {
          "output_type": "display_data",
          "data": {
            "image/png": "[encoded data removed]",
            "text/plain": [
              "<Figure size 432x288 with 1 Axes>"
            ]
          },
          "metadata": {
            "tags": []
          }
        }
      ]
    },
    {
      "cell_type": "code",
      "metadata": {
        "id": "wESxy2mbt8zz",
        "colab_type": "code",
        "colab": {
          "base_uri": "https://localhost:8080/",
          "height": 593
        },
        "outputId": "b757e3b0-db53-49fc-ee44-efe67b5f6dbb"
      },
      "source": [
        "#Here we set up the network and create the overall structure to the network. Notice that as we continur, other than max_pooling and flatten, the layers increase in size then decrease at the end. \n",
        "print(\"Here we see the number of parameters. Notice how for every layer (Except for max_pooling2d and flatten, which I will explain shortly),\\n the number of parameters increases until it reaches a peak. In our case, that peak is 48128 parameters. We can think of the neural \\n network as taking in our value, breaking it up into little pieces and therefore increasing the number of parameters the next layer takes \\n in, then finally lowering as it has already preformed most tests.\") \n",
        "model = Sequential()\n",
        "model.add(Conv2D(30, (3, 3), input_shape=(28, 28,1), activation='relu'))\n",
        "model.add(MaxPooling2D(pool_size=(2, 2)))\n",
        "model.add(Conv2D(15, (3, 3), activation='relu'))\n",
        "model.add(MaxPooling2D(pool_size=(2, 2)))\n",
        "model.add(Flatten())\n",
        "model.add(Dense(128, activation='relu'))\n",
        "model.add(Dense(50, activation='relu'))\n",
        "model.add(Dense(10, activation='softmax'))\n",
        "model.compile(loss='categorical_crossentropy', optimizer='adam', metrics=['accuracy'])\n",
        "model.summary()\n",
        "print(\"Max pooling and flatten are different, however. The job of max pooling is to find feature that most of them share, and therefore can't be \\n used. An example of this is given you're trying to identify the faces of people standing in front of a field. Since we know that all \\n pictures will include the field behind them, it makes no sense to use this while trying to distinguish faces. Flatten simply converts it \\n to a form that the next layer can take in (we can think of this as an adapter)\")"
      ],
      "execution_count": 117,
      "outputs": [
        {
          "output_type": "stream",
          "text": [
            "Here we see the number of parameters. Notice how for every layer (Except for max_pooling2d and flatten, which I will explain shortly),\n",
            " the number of parameters increases until it reaches a peak. In our case, that peak is 48128 parameters. We can think of the neural \n",
            " network as taking in our value, breaking it up into little pieces and therefore increasing the number of parameters the next layer takes \n",
            " in, then finally lowering as it has already preformed most tests.\n",
            "Model: \"sequential_31\"\n",
            "_________________________________________________________________\n",
            "Layer (type)                 Output Shape              Param #   \n",
            "=================================================================\n",
            "conv2d_48 (Conv2D)           (None, 26, 26, 30)        300       \n",
            "_________________________________________________________________\n",
            "max_pooling2d_37 (MaxPooling (None, 13, 13, 30)        0         \n",
            "_________________________________________________________________\n",
            "conv2d_49 (Conv2D)           (None, 11, 11, 15)        4065      \n",
            "_________________________________________________________________\n",
            "max_pooling2d_38 (MaxPooling (None, 5, 5, 15)          0         \n",
            "_________________________________________________________________\n",
            "flatten_18 (Flatten)         (None, 375)               0         \n",
            "_________________________________________________________________\n",
            "dense_60 (Dense)             (None, 128)               48128     \n",
            "_________________________________________________________________\n",
            "dense_61 (Dense)             (None, 50)                6450      \n",
            "_________________________________________________________________\n",
            "dense_62 (Dense)             (None, 10)                510       \n",
            "=================================================================\n",
            "Total params: 59,453\n",
            "Trainable params: 59,453\n",
            "Non-trainable params: 0\n",
            "_________________________________________________________________\n",
            "Max pooling and flatten are different, however. The job of max pooling is to find feature that most of them share, and therefore can't be \n",
            " used. An example of this is given you're trying to identify the faces of people standing in front of a field. Since we know that all \n",
            " pictures will include the field behind them, it makes no sense to use this while trying to distinguish faces. Flatten simply converts it \n",
            " to a form that the next layer can take in (we can think of this as an adapter)\n"
          ],
          "name": "stdout"
        }
      ]
    },
    {
      "cell_type": "code",
      "metadata": {
        "id": "VAJKrrygt_2_",
        "colab_type": "code",
        "colab": {
          "base_uri": "https://localhost:8080/",
          "height": 121
        },
        "outputId": "85849368-76f4-4d0f-f4ee-178cd5e4f5bf"
      },
      "source": [
        "#Here we take the data and train it using our training data.\n",
        "hist=model.fit(X_train,Y_train,epochs=3,batch_size=300,verbose=2)\n"
      ],
      "execution_count": 109,
      "outputs": [
        {
          "output_type": "stream",
          "text": [
            "Epoch 1/3\n",
            " - 37s - loss: 0.4895 - acc: 0.8603\n",
            "Epoch 2/3\n",
            " - 36s - loss: 0.1173 - acc: 0.9655\n",
            "Epoch 3/3\n",
            " - 36s - loss: 0.0790 - acc: 0.9764\n"
          ],
          "name": "stdout"
        }
      ]
    },
    {
      "cell_type": "code",
      "metadata": {
        "id": "JldoGD4eyPyM",
        "colab_type": "code",
        "colab": {
          "base_uri": "https://localhost:8080/",
          "height": 34
        },
        "outputId": "eb2db324-b3b6-402c-c89b-bef53b774f04"
      },
      "source": [
        "#Here, we test the neural network with random data from our database, not necessarily the data we used.\n",
        "modacc=model.evaluate(X_train,Y_train,verbose=2) \n",
        "print(\"Has accuracy of \"+str(100*round(modacc[1],4))+\"%.\")"
      ],
      "execution_count": 100,
      "outputs": [
        {
          "output_type": "stream",
          "text": [
            "Has accuracy of 98.22%.\n"
          ],
          "name": "stdout"
        }
      ]
    },
    {
      "cell_type": "code",
      "metadata": {
        "id": "pKTAJRH1uCkw",
        "colab_type": "code",
        "colab": {}
      },
      "source": [
        "#Here, we take the neural network's structure and save them to an external file for later use. Note this is not the trained network, but instead an outline of the network.\n",
        "model_trained = model.to_json()\n",
        "with open(\"model_trained.json\", \"w\") as json_file:\n",
        "    json_file.write(model_trained)\n",
        "#We then take the values which we got from training the network and save those as well. This way we will be able to use the network without having to train it every time.\n",
        "model.save_weights(\"model_trained.h5\")"
      ],
      "execution_count": 0,
      "outputs": []
    },
    {
      "cell_type": "code",
      "metadata": {
        "id": "Fndy0PdEuGM1",
        "colab_type": "code",
        "colab": {}
      },
      "source": [
        "#Here, we take the accuracy and save it into a new file. This allows us to later plot the data so we can see the accuracy of the network over time as we train it.\n",
        "accuracy=hist.history['acc']\n",
        "x=range(len(accuracy))\n",
        "data=np.array([x,accuracy])\n",
        "np.savetxt(\"data.csv\",data,delimiter=\",\")"
      ],
      "execution_count": 0,
      "outputs": []
    }
  ]
}